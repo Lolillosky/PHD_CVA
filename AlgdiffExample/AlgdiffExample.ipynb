{
 "cells": [
  {
   "cell_type": "markdown",
   "id": "249c2b51",
   "metadata": {},
   "source": [
    "# Algorithmic Differentiation Example"
   ]
  },
  {
   "cell_type": "markdown",
   "id": "f3f5edf2",
   "metadata": {},
   "source": [
    "\n",
    "\n"
   ]
  }
 ],
 "metadata": {
  "language_info": {
   "name": "python"
  }
 },
 "nbformat": 4,
 "nbformat_minor": 5
}
